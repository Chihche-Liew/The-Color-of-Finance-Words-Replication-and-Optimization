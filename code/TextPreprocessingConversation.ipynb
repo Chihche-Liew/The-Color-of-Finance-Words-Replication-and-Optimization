{
 "cells": [
  {
   "cell_type": "code",
   "execution_count": 1,
   "metadata": {
    "collapsed": true
   },
   "outputs": [
    {
     "name": "stdout",
     "output_type": "stream",
     "text": [
      "WRDS recommends setting up a .pgpass file.\n",
      "Created .pgpass file successfully.\n",
      "You can create this file yourself at any time with the create_pgpass_file() function.\n",
      "Loading library list...\n",
      "Done\n"
     ]
    }
   ],
   "source": [
    "import pandas as pd\n",
    "import numpy as np\n",
    "import datetime as dt\n",
    "import re\n",
    "from sklearn.feature_extraction.text import CountVectorizer\n",
    "import wrds\n",
    "import duckdb\n",
    "db = wrds.Connection()"
   ]
  },
  {
   "cell_type": "code",
   "execution_count": 2,
   "outputs": [],
   "source": [
    "data = pd.read_pickle('./data/con_arousal_happy_20230803.pkl', compression='zip')"
   ],
   "metadata": {
    "collapsed": false
   }
  },
  {
   "cell_type": "code",
   "execution_count": 3,
   "outputs": [],
   "source": [
    "data_agg = pd.DataFrame()\n",
    "data_agg['transcript'] = data.groupby(['eventid', 'conversationid'])['transcript'].apply(lambda x: ''.join(x))\n",
    "data_agg['transcript'] = data_agg['transcript'].apply(lambda x: x.lower())\n",
    "data['ret'] = np.where(data['trading_hours'] == 1, data['trade_ret'], data['q_ret'])\n",
    "data_agg['ret'] = data.groupby(['eventid', 'conversationid'])['ret'].apply(lambda x: x.iloc[0])\n",
    "data_agg['ticker'] = data.groupby(['eventid', 'conversationid'])['ticker2'].apply(lambda x: x.iloc[0])\n",
    "data_agg['starttime'] = data.groupby(['eventid', 'conversationid'])['con_starttime2'].apply(lambda x: x.iloc[0])\n",
    "data_agg['endtime'] = data.groupby(['eventid', 'conversationid'])['con_endtime2'].apply(lambda x: x.iloc[0])\n",
    "data_agg['starttime'] = pd.to_datetime(data_agg['starttime'])\n",
    "data_agg['endtime'] = pd.to_datetime(data_agg['endtime'])\n",
    "data_agg['date'] = data_agg.endtime.dt.date\n",
    "data_agg['transcript'] = data_agg['transcript'].apply(lambda x: re.sub('[^a-zA-Z]', ' ', x))\n",
    "data_agg['transcript'] = data_agg['transcript'].apply(lambda x: re.sub('\\s+', ' ', x))\n",
    "data_agg = data_agg.reset_index()"
   ],
   "metadata": {
    "collapsed": false
   }
  },
  {
   "cell_type": "code",
   "execution_count": 4,
   "outputs": [],
   "source": [
    "stocknames = db.get_table('crsp', 'stocknames')"
   ],
   "metadata": {
    "collapsed": false
   }
  },
  {
   "cell_type": "code",
   "execution_count": 5,
   "outputs": [],
   "source": [
    "data_agg = duckdb.query(\"\"\"\n",
    "SELECT a.*, b.*\n",
    "FROM data_agg as a\n",
    "LEFT JOIN stocknames as b\n",
    "ON a.ticker = b.ticker and a.date <= b.nameenddt and a.date >= b.namedt\n",
    "\"\"\").df().drop_duplicates()\n",
    "data_agg = data_agg.loc[~data_agg['shrcls'].isin(['B', 'V', 'P'])]\n",
    "data_agg = data_agg[['eventid', 'conversationid', 'transcript',\n",
    "                     'ret', 'ticker', 'starttime', 'endtime',\n",
    "                     'date', 'permno', 'cusip']].dropna()"
   ],
   "metadata": {
    "collapsed": false
   }
  },
  {
   "cell_type": "code",
   "execution_count": 6,
   "outputs": [],
   "source": [
    "ccmxpf = db.raw_sql(\"\"\"\n",
    "SELECT *\n",
    "FROM crsp.ccmxpf_linktable\n",
    "WHERE LINKTYPE IN ('LU', 'LC', 'LD', 'LF', 'LN', 'LO', 'LS', 'LX')\n",
    "\"\"\")\n",
    "ccmxpf['linkenddt'] = np.where(ccmxpf['linkenddt'].isna(), '2023-12-31', ccmxpf['linkenddt'])"
   ],
   "metadata": {
    "collapsed": false
   }
  },
  {
   "cell_type": "code",
   "execution_count": 7,
   "outputs": [],
   "source": [
    "data_agg = duckdb.query(\"\"\"\n",
    "SELECT a.*, b.gvkey\n",
    "FROM data_agg as a\n",
    "LEFT JOIN ccmxpf as b\n",
    "ON a.permno = b.lpermno and a.date >= linkdt and a.date <= linkenddt\n",
    "\"\"\").df().drop_duplicates()\n",
    "data_agg = data_agg.loc[~(data_agg['gvkey'] == '011550')]\n",
    "data_agg = data_agg.dropna().drop_duplicates()"
   ],
   "metadata": {
    "collapsed": false
   }
  },
  {
   "cell_type": "code",
   "execution_count": 10,
   "outputs": [],
   "source": [
    "data_agg['callDate'] = data_agg['date']\n",
    "data_agg['fyearq'] = data_agg.date.dt.year\n",
    "def last_day_of_previous_quarter(date):\n",
    "    quarter = date.quarter\n",
    "    year = date.year\n",
    "    if quarter == 1:\n",
    "        return dt.date(year - 1, 12, 31)\n",
    "    elif quarter == 2:\n",
    "        return dt.date(year, 3, 31)\n",
    "    elif quarter == 3:\n",
    "        return dt.date(year, 6, 30)\n",
    "    elif quarter == 4:\n",
    "        return dt.date(year, 9, 30)\n",
    "data_agg['datadate'] = data_agg['callDate'].apply(lambda x: last_day_of_previous_quarter(x))"
   ],
   "metadata": {
    "collapsed": false
   }
  },
  {
   "cell_type": "code",
   "execution_count": null,
   "outputs": [],
   "source": [
    "data_agg.to_csv('./data/con_data.csv')"
   ],
   "metadata": {
    "collapsed": false
   }
  },
  {
   "cell_type": "code",
   "execution_count": 13,
   "outputs": [],
   "source": [
    "data_event = pd.DataFrame()\n",
    "data_event['transcript'] = data_agg.groupby(['eventid'])['transcript'].apply(lambda x: ''.join(x))\n",
    "data_event['transcript'] = data_event['transcript'].apply(lambda x: re.sub('[^a-zA-Z]', ' ', x))\n",
    "data_event['transcript'] = data_event['transcript'].apply(lambda x: re.sub('\\s+', ' ', x))\n",
    "data_event['ticker'] = data_agg.groupby(['eventid'])['ticker'].apply(lambda x: x.iloc[0])\n",
    "data_event['starttime'] = data_agg.groupby(['eventid'])['starttime'].apply(lambda x: x.iloc[0])\n",
    "data_event['endtime'] = data_agg.groupby(['eventid'])['endtime'].apply(lambda x: x.iloc[-1])\n",
    "data_event['starttime'] = pd.to_datetime(data_event['starttime'])\n",
    "data_event['endtime'] = pd.to_datetime(data_event['endtime'])\n",
    "data_event['date'] = data_event.endtime.dt.date\n",
    "data_event['date'] = pd.to_datetime(data_event['date'])\n",
    "data_event['permno'] = data_agg.groupby(['eventid'])['permno'].apply(lambda x: x.iloc[0])\n",
    "data_event['cusip'] = data_agg.groupby(['eventid'])['cusip'].apply(lambda x: x.iloc[0])\n",
    "data_event['gvkey'] = data_agg.groupby(['eventid'])['gvkey'].apply(lambda x: x.iloc[0])\n",
    "data_event['callDate'] = data_event['date']\n",
    "data_event['fyearq'] = data_event.date.dt.year\n",
    "data_event['datadate'] = data_event['callDate'].apply(lambda x: last_day_of_previous_quarter(x))"
   ],
   "metadata": {
    "collapsed": false
   }
  },
  {
   "cell_type": "code",
   "execution_count": 16,
   "outputs": [],
   "source": [
    "data_event.to_csv('./data/event_data.csv')"
   ],
   "metadata": {
    "collapsed": false
   }
  },
  {
   "cell_type": "code",
   "execution_count": 59,
   "outputs": [],
   "source": [
    "meta = data_agg[['permno', 'gvkey', 'datadate', 'fyearq', 'callDate', 'ret']]\n",
    "meta.to_csv('./data/con_meta.csv')"
   ],
   "metadata": {
    "collapsed": false
   }
  },
  {
   "cell_type": "code",
   "execution_count": 60,
   "outputs": [],
   "source": [
    "text = data_agg['transcript'].reset_index(drop=True)\n",
    "vectorizer = CountVectorizer()\n",
    "dtm_matrix = vectorizer.fit_transform(text)\n",
    "dtm_df = pd.DataFrame(dtm_matrix.toarray(), columns=vectorizer.get_feature_names_out())"
   ],
   "metadata": {
    "collapsed": false
   }
  },
  {
   "cell_type": "code",
   "execution_count": null,
   "outputs": [],
   "source": [
    "dtm_df.to_csv('./data/con_dtm.csv')"
   ],
   "metadata": {
    "collapsed": false
   }
  }
 ],
 "metadata": {
  "kernelspec": {
   "display_name": "Python 3",
   "language": "python",
   "name": "python3"
  },
  "language_info": {
   "codemirror_mode": {
    "name": "ipython",
    "version": 2
   },
   "file_extension": ".py",
   "mimetype": "text/x-python",
   "name": "python",
   "nbconvert_exporter": "python",
   "pygments_lexer": "ipython2",
   "version": "2.7.6"
  }
 },
 "nbformat": 4,
 "nbformat_minor": 0
}
