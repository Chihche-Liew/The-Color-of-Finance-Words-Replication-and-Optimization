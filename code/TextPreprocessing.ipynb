{
 "cells": [
  {
   "cell_type": "code",
   "execution_count": 1,
   "metadata": {
    "collapsed": true
   },
   "outputs": [
    {
     "name": "stdout",
     "output_type": "stream",
     "text": [
      "WRDS recommends setting up a .pgpass file.\n",
      "Created .pgpass file successfully.\n",
      "You can create this file yourself at any time with the create_pgpass_file() function.\n",
      "Loading library list...\n",
      "Done\n"
     ]
    }
   ],
   "source": [
    "import pandas as pd\n",
    "import numpy as np\n",
    "import datetime as dt\n",
    "import re\n",
    "from sklearn.feature_extraction.text import CountVectorizer\n",
    "import wrds\n",
    "import duckdb\n",
    "db = wrds.Connection()"
   ]
  },
  {
   "cell_type": "code",
   "execution_count": 2,
   "outputs": [],
   "source": [
    "data = pd.read_pickle('./data/con_arousal_happy_20230803.pkl', compression='zip')"
   ],
   "metadata": {
    "collapsed": false
   }
  },
  {
   "cell_type": "code",
   "execution_count": 3,
   "outputs": [],
   "source": [
    "data_agg = pd.DataFrame()\n",
    "data_agg['transcript'] = data.groupby(['eventid', 'conversationid'])['transcript'].apply(lambda x: ''.join(x))\n",
    "data_agg['transcript'] = data_agg['transcript'].apply(lambda x: x.lower())\n",
    "data['ret'] = np.where(data['trading_hours'] == 1, data['trade_ret'], data['q_ret'])\n",
    "data_agg['ret'] = data.groupby(['eventid', 'conversationid'])['ret'].apply(lambda x: x.iloc[0])\n",
    "data_agg['ticker'] = data.groupby(['eventid', 'conversationid'])['ticker2'].apply(lambda x: x.iloc[0])\n",
    "data_agg['starttime'] = data.groupby(['eventid', 'conversationid'])['con_starttime2'].apply(lambda x: x.iloc[0])\n",
    "data_agg['endtime'] = data.groupby(['eventid', 'conversationid'])['con_endtime2'].apply(lambda x: x.iloc[0])\n",
    "data_agg['starttime'] = pd.to_datetime(data_agg['starttime'])\n",
    "data_agg['endtime'] = pd.to_datetime(data_agg['endtime'])\n",
    "data_agg['date'] = data_agg.endtime.dt.date\n",
    "data_agg['transcript'] = data_agg['transcript'].apply(lambda x: re.sub('[^a-zA-Z]', ' ', x))\n",
    "data_agg['transcript'] = data_agg['transcript'].apply(lambda x: re.sub('\\s+', ' ', x))\n",
    "data_agg = data_agg.reset_index()"
   ],
   "metadata": {
    "collapsed": false
   }
  },
  {
   "cell_type": "code",
   "execution_count": 4,
   "outputs": [],
   "source": [
    "stocknames = db.get_table('crsp', 'stocknames')"
   ],
   "metadata": {
    "collapsed": false
   }
  },
  {
   "cell_type": "code",
   "execution_count": 5,
   "outputs": [],
   "source": [
    "data_agg = duckdb.query(\"\"\"\n",
    "SELECT a.*, b.*\n",
    "FROM data_agg as a\n",
    "LEFT JOIN stocknames as b\n",
    "ON a.ticker = b.ticker and a.date <= b.nameenddt and a.date >= b.namedt\n",
    "\"\"\").df().drop_duplicates()\n",
    "data_agg = data_agg.loc[~data_agg['shrcls'].isin(['B', 'V', 'P'])]\n",
    "data_agg = data_agg[['eventid', 'conversationid', 'transcript',\n",
    "                     'ret', 'ticker', 'starttime', 'endtime',\n",
    "                     'date', 'permno', 'cusip']].dropna()"
   ],
   "metadata": {
    "collapsed": false
   }
  },
  {
   "cell_type": "code",
   "execution_count": 6,
   "outputs": [],
   "source": [
    "ccmxpf = db.raw_sql(\"\"\"\n",
    "SELECT *\n",
    "FROM crsp.ccmxpf_linktable\n",
    "WHERE LINKTYPE IN ('LU', 'LC', 'LD', 'LF', 'LN', 'LO', 'LS', 'LX')\n",
    "\"\"\")\n",
    "ccmxpf['linkenddt'] = np.where(ccmxpf['linkenddt'].isna(), '2023-12-31', ccmxpf['linkenddt'])"
   ],
   "metadata": {
    "collapsed": false
   }
  },
  {
   "cell_type": "code",
   "execution_count": 7,
   "outputs": [],
   "source": [
    "data_agg = duckdb.query(\"\"\"\n",
    "SELECT a.*, b.gvkey\n",
    "FROM data_agg as a\n",
    "LEFT JOIN ccmxpf as b\n",
    "ON a.permno = b.lpermno and a.date >= linkdt and a.date <= linkenddt\n",
    "\"\"\").df().drop_duplicates()\n",
    "data_agg = data_agg.loc[~(data_agg['gvkey'] == '011550')]\n",
    "data_agg = data_agg.dropna().drop_duplicates()"
   ],
   "metadata": {
    "collapsed": false
   }
  },
  {
   "cell_type": "code",
   "execution_count": 10,
   "outputs": [],
   "source": [
    "data_agg['callDate'] = data_agg['date']\n",
    "data_agg['fyearq'] = data_agg.date.dt.year\n",
    "def last_day_of_previous_quarter(date):\n",
    "    quarter = date.quarter\n",
    "    year = date.year\n",
    "    if quarter == 1:\n",
    "        return dt.date(year - 1, 12, 31)\n",
    "    elif quarter == 2:\n",
    "        return dt.date(year, 3, 31)\n",
    "    elif quarter == 3:\n",
    "        return dt.date(year, 6, 30)\n",
    "    elif quarter == 4:\n",
    "        return dt.date(year, 9, 30)\n",
    "data_agg['datadate'] = data_agg['callDate'].apply(lambda x: last_day_of_previous_quarter(x))"
   ],
   "metadata": {
    "collapsed": false
   }
  },
  {
   "cell_type": "code",
   "execution_count": 11,
   "outputs": [
    {
     "data": {
      "text/plain": "                       eventid conversationid  \\\n0       010320_LW_137951422184              1   \n1       010320_LW_137951422184              2   \n2       010320_LW_137951422184              3   \n3       010320_LW_137951422184              4   \n4       010320_LW_137951422184              5   \n...                        ...            ...   \n77751  110818_MRO_137822779557              5   \n77752  110818_MRO_137822779557              6   \n77753  110818_MRO_137822779557              7   \n77754  110818_MRO_137822779557              8   \n77755  110818_MRO_137822779557              9   \n\n                                              transcript       ret ticker  \\\n0      two questions if i could tom i guess first as ...  0.004060     LW   \n1      i guess i was hoping maybe you could go on the...  0.002623     LW   \n2      you gave a lot of helpful color on the potato ... -0.000327     LW   \n3      i just had a question for you first on a comme...  0.003156     LW   \n4      so i just i m really impressed with this volum... -0.001520     LW   \n...                                                  ...       ...    ...   \n77751  i guess just following up on some of the capit...  0.016712    MRO   \n77752  mitch you covered most of the questions i had ... -0.007953    MRO   \n77753  lee you highlighted when you were talking abou... -0.006400    MRO   \n77754  what i think would be helpful and i think you ...  0.002685    MRO   \n77755  so there s been a lot of color provided on so ...  0.000536    MRO   \n\n                starttime             endtime       date   permno     cusip  \\\n0     2020-01-03 10:27:15 2020-01-03 10:31:15 2020-01-03  16431.0  51327210   \n1     2020-01-03 10:31:25 2020-01-03 10:35:26 2020-01-03  16431.0  51327210   \n2     2020-01-03 10:35:39 2020-01-03 10:37:57 2020-01-03  16431.0  51327210   \n3     2020-01-03 10:38:05 2020-01-03 10:40:58 2020-01-03  16431.0  51327210   \n4     2020-01-03 10:41:06 2020-01-03 10:43:34 2020-01-03  16431.0  51327210   \n...                   ...                 ...        ...      ...       ...   \n77751 2018-11-08 09:37:05 2018-11-08 09:43:16 2018-11-08  15069.0  56584910   \n77752 2018-11-08 09:43:27 2018-11-08 09:46:44 2018-11-08  15069.0  56584910   \n77753 2018-11-08 09:46:53 2018-11-08 09:51:09 2018-11-08  15069.0  56584910   \n77754 2018-11-08 09:51:24 2018-11-08 09:56:44 2018-11-08  15069.0  56584910   \n77755 2018-11-08 09:56:55 2018-11-08 10:03:42 2018-11-08  15069.0  56584910   \n\n        gvkey   callDate  fyearq    datadate  \n0      028790 2020-01-03    2020  2019-12-31  \n1      028790 2020-01-03    2020  2019-12-31  \n2      028790 2020-01-03    2020  2019-12-31  \n3      028790 2020-01-03    2020  2019-12-31  \n4      028790 2020-01-03    2020  2019-12-31  \n...       ...        ...     ...         ...  \n77751  007017 2018-11-08    2018  2018-09-30  \n77752  007017 2018-11-08    2018  2018-09-30  \n77753  007017 2018-11-08    2018  2018-09-30  \n77754  007017 2018-11-08    2018  2018-09-30  \n77755  007017 2018-11-08    2018  2018-09-30  \n\n[76571 rows x 14 columns]",
      "text/html": "<div>\n<style scoped>\n    .dataframe tbody tr th:only-of-type {\n        vertical-align: middle;\n    }\n\n    .dataframe tbody tr th {\n        vertical-align: top;\n    }\n\n    .dataframe thead th {\n        text-align: right;\n    }\n</style>\n<table border=\"1\" class=\"dataframe\">\n  <thead>\n    <tr style=\"text-align: right;\">\n      <th></th>\n      <th>eventid</th>\n      <th>conversationid</th>\n      <th>transcript</th>\n      <th>ret</th>\n      <th>ticker</th>\n      <th>starttime</th>\n      <th>endtime</th>\n      <th>date</th>\n      <th>permno</th>\n      <th>cusip</th>\n      <th>gvkey</th>\n      <th>callDate</th>\n      <th>fyearq</th>\n      <th>datadate</th>\n    </tr>\n  </thead>\n  <tbody>\n    <tr>\n      <th>0</th>\n      <td>010320_LW_137951422184</td>\n      <td>1</td>\n      <td>two questions if i could tom i guess first as ...</td>\n      <td>0.004060</td>\n      <td>LW</td>\n      <td>2020-01-03 10:27:15</td>\n      <td>2020-01-03 10:31:15</td>\n      <td>2020-01-03</td>\n      <td>16431.0</td>\n      <td>51327210</td>\n      <td>028790</td>\n      <td>2020-01-03</td>\n      <td>2020</td>\n      <td>2019-12-31</td>\n    </tr>\n    <tr>\n      <th>1</th>\n      <td>010320_LW_137951422184</td>\n      <td>2</td>\n      <td>i guess i was hoping maybe you could go on the...</td>\n      <td>0.002623</td>\n      <td>LW</td>\n      <td>2020-01-03 10:31:25</td>\n      <td>2020-01-03 10:35:26</td>\n      <td>2020-01-03</td>\n      <td>16431.0</td>\n      <td>51327210</td>\n      <td>028790</td>\n      <td>2020-01-03</td>\n      <td>2020</td>\n      <td>2019-12-31</td>\n    </tr>\n    <tr>\n      <th>2</th>\n      <td>010320_LW_137951422184</td>\n      <td>3</td>\n      <td>you gave a lot of helpful color on the potato ...</td>\n      <td>-0.000327</td>\n      <td>LW</td>\n      <td>2020-01-03 10:35:39</td>\n      <td>2020-01-03 10:37:57</td>\n      <td>2020-01-03</td>\n      <td>16431.0</td>\n      <td>51327210</td>\n      <td>028790</td>\n      <td>2020-01-03</td>\n      <td>2020</td>\n      <td>2019-12-31</td>\n    </tr>\n    <tr>\n      <th>3</th>\n      <td>010320_LW_137951422184</td>\n      <td>4</td>\n      <td>i just had a question for you first on a comme...</td>\n      <td>0.003156</td>\n      <td>LW</td>\n      <td>2020-01-03 10:38:05</td>\n      <td>2020-01-03 10:40:58</td>\n      <td>2020-01-03</td>\n      <td>16431.0</td>\n      <td>51327210</td>\n      <td>028790</td>\n      <td>2020-01-03</td>\n      <td>2020</td>\n      <td>2019-12-31</td>\n    </tr>\n    <tr>\n      <th>4</th>\n      <td>010320_LW_137951422184</td>\n      <td>5</td>\n      <td>so i just i m really impressed with this volum...</td>\n      <td>-0.001520</td>\n      <td>LW</td>\n      <td>2020-01-03 10:41:06</td>\n      <td>2020-01-03 10:43:34</td>\n      <td>2020-01-03</td>\n      <td>16431.0</td>\n      <td>51327210</td>\n      <td>028790</td>\n      <td>2020-01-03</td>\n      <td>2020</td>\n      <td>2019-12-31</td>\n    </tr>\n    <tr>\n      <th>...</th>\n      <td>...</td>\n      <td>...</td>\n      <td>...</td>\n      <td>...</td>\n      <td>...</td>\n      <td>...</td>\n      <td>...</td>\n      <td>...</td>\n      <td>...</td>\n      <td>...</td>\n      <td>...</td>\n      <td>...</td>\n      <td>...</td>\n      <td>...</td>\n    </tr>\n    <tr>\n      <th>77751</th>\n      <td>110818_MRO_137822779557</td>\n      <td>5</td>\n      <td>i guess just following up on some of the capit...</td>\n      <td>0.016712</td>\n      <td>MRO</td>\n      <td>2018-11-08 09:37:05</td>\n      <td>2018-11-08 09:43:16</td>\n      <td>2018-11-08</td>\n      <td>15069.0</td>\n      <td>56584910</td>\n      <td>007017</td>\n      <td>2018-11-08</td>\n      <td>2018</td>\n      <td>2018-09-30</td>\n    </tr>\n    <tr>\n      <th>77752</th>\n      <td>110818_MRO_137822779557</td>\n      <td>6</td>\n      <td>mitch you covered most of the questions i had ...</td>\n      <td>-0.007953</td>\n      <td>MRO</td>\n      <td>2018-11-08 09:43:27</td>\n      <td>2018-11-08 09:46:44</td>\n      <td>2018-11-08</td>\n      <td>15069.0</td>\n      <td>56584910</td>\n      <td>007017</td>\n      <td>2018-11-08</td>\n      <td>2018</td>\n      <td>2018-09-30</td>\n    </tr>\n    <tr>\n      <th>77753</th>\n      <td>110818_MRO_137822779557</td>\n      <td>7</td>\n      <td>lee you highlighted when you were talking abou...</td>\n      <td>-0.006400</td>\n      <td>MRO</td>\n      <td>2018-11-08 09:46:53</td>\n      <td>2018-11-08 09:51:09</td>\n      <td>2018-11-08</td>\n      <td>15069.0</td>\n      <td>56584910</td>\n      <td>007017</td>\n      <td>2018-11-08</td>\n      <td>2018</td>\n      <td>2018-09-30</td>\n    </tr>\n    <tr>\n      <th>77754</th>\n      <td>110818_MRO_137822779557</td>\n      <td>8</td>\n      <td>what i think would be helpful and i think you ...</td>\n      <td>0.002685</td>\n      <td>MRO</td>\n      <td>2018-11-08 09:51:24</td>\n      <td>2018-11-08 09:56:44</td>\n      <td>2018-11-08</td>\n      <td>15069.0</td>\n      <td>56584910</td>\n      <td>007017</td>\n      <td>2018-11-08</td>\n      <td>2018</td>\n      <td>2018-09-30</td>\n    </tr>\n    <tr>\n      <th>77755</th>\n      <td>110818_MRO_137822779557</td>\n      <td>9</td>\n      <td>so there s been a lot of color provided on so ...</td>\n      <td>0.000536</td>\n      <td>MRO</td>\n      <td>2018-11-08 09:56:55</td>\n      <td>2018-11-08 10:03:42</td>\n      <td>2018-11-08</td>\n      <td>15069.0</td>\n      <td>56584910</td>\n      <td>007017</td>\n      <td>2018-11-08</td>\n      <td>2018</td>\n      <td>2018-09-30</td>\n    </tr>\n  </tbody>\n</table>\n<p>76571 rows × 14 columns</p>\n</div>"
     },
     "execution_count": 11,
     "metadata": {},
     "output_type": "execute_result"
    }
   ],
   "source": [
    "data_agg"
   ],
   "metadata": {
    "collapsed": false
   }
  },
  {
   "cell_type": "code",
   "execution_count": null,
   "outputs": [],
   "source": [
    "data_agg.to_csv('./data/con_data.csv')"
   ],
   "metadata": {
    "collapsed": false
   }
  },
  {
   "cell_type": "code",
   "execution_count": 13,
   "outputs": [],
   "source": [
    "data_event = pd.DataFrame()\n",
    "data_event['transcript'] = data_agg.groupby(['eventid'])['transcript'].apply(lambda x: ''.join(x))\n",
    "data_event['transcript'] = data_event['transcript'].apply(lambda x: re.sub('[^a-zA-Z]', ' ', x))\n",
    "data_event['transcript'] = data_event['transcript'].apply(lambda x: re.sub('\\s+', ' ', x))\n",
    "data_event['ticker'] = data_agg.groupby(['eventid'])['ticker'].apply(lambda x: x.iloc[0])\n",
    "data_event['starttime'] = data_agg.groupby(['eventid'])['starttime'].apply(lambda x: x.iloc[0])\n",
    "data_event['endtime'] = data_agg.groupby(['eventid'])['endtime'].apply(lambda x: x.iloc[-1])\n",
    "data_event['starttime'] = pd.to_datetime(data_event['starttime'])\n",
    "data_event['endtime'] = pd.to_datetime(data_event['endtime'])\n",
    "data_event['date'] = data_event.endtime.dt.date\n",
    "data_event['date'] = pd.to_datetime(data_event['date'])\n",
    "data_event['permno'] = data_agg.groupby(['eventid'])['permno'].apply(lambda x: x.iloc[0])\n",
    "data_event['cusip'] = data_agg.groupby(['eventid'])['cusip'].apply(lambda x: x.iloc[0])\n",
    "data_event['gvkey'] = data_agg.groupby(['eventid'])['gvkey'].apply(lambda x: x.iloc[0])\n",
    "data_event['callDate'] = data_event['date']\n",
    "data_event['fyearq'] = data_event.date.dt.year\n",
    "data_event['datadate'] = data_event['callDate'].apply(lambda x: last_day_of_previous_quarter(x))"
   ],
   "metadata": {
    "collapsed": false
   }
  },
  {
   "cell_type": "code",
   "execution_count": 16,
   "outputs": [],
   "source": [
    "data_event.to_csv('./data/event_data.csv')"
   ],
   "metadata": {
    "collapsed": false
   }
  },
  {
   "cell_type": "code",
   "execution_count": 59,
   "outputs": [],
   "source": [
    "meta = data_agg[['permno', 'gvkey', 'datadate', 'fyearq', 'callDate', 'ret']]\n",
    "meta.to_csv('./data/con_meta.csv')"
   ],
   "metadata": {
    "collapsed": false
   }
  },
  {
   "cell_type": "code",
   "execution_count": 60,
   "outputs": [],
   "source": [
    "text = data_agg['transcript'].reset_index(drop=True)\n",
    "vectorizer = CountVectorizer()\n",
    "dtm_matrix = vectorizer.fit_transform(text)\n",
    "dtm_df = pd.DataFrame(dtm_matrix.toarray(), columns=vectorizer.get_feature_names_out())"
   ],
   "metadata": {
    "collapsed": false
   }
  },
  {
   "cell_type": "code",
   "execution_count": 63,
   "outputs": [
    {
     "ename": "KeyboardInterrupt",
     "evalue": "",
     "output_type": "error",
     "traceback": [
      "\u001B[1;31m---------------------------------------------------------------------------\u001B[0m",
      "\u001B[1;31mKeyboardInterrupt\u001B[0m                         Traceback (most recent call last)",
      "Cell \u001B[1;32mIn[63], line 1\u001B[0m\n\u001B[1;32m----> 1\u001B[0m \u001B[43mdtm_df\u001B[49m\u001B[38;5;241;43m.\u001B[39;49m\u001B[43mto_csv\u001B[49m\u001B[43m(\u001B[49m\u001B[38;5;124;43m'\u001B[39;49m\u001B[38;5;124;43m./data/con_dtm.csv\u001B[39;49m\u001B[38;5;124;43m'\u001B[39;49m\u001B[43m)\u001B[49m\n",
      "File \u001B[1;32mC:\\ProgramData\\Anaconda3\\lib\\site-packages\\pandas\\util\\_decorators.py:211\u001B[0m, in \u001B[0;36mdeprecate_kwarg.<locals>._deprecate_kwarg.<locals>.wrapper\u001B[1;34m(*args, **kwargs)\u001B[0m\n\u001B[0;32m    209\u001B[0m     \u001B[38;5;28;01melse\u001B[39;00m:\n\u001B[0;32m    210\u001B[0m         kwargs[new_arg_name] \u001B[38;5;241m=\u001B[39m new_arg_value\n\u001B[1;32m--> 211\u001B[0m \u001B[38;5;28;01mreturn\u001B[39;00m func(\u001B[38;5;241m*\u001B[39margs, \u001B[38;5;241m*\u001B[39m\u001B[38;5;241m*\u001B[39mkwargs)\n",
      "File \u001B[1;32mC:\\ProgramData\\Anaconda3\\lib\\site-packages\\pandas\\core\\generic.py:3720\u001B[0m, in \u001B[0;36mNDFrame.to_csv\u001B[1;34m(self, path_or_buf, sep, na_rep, float_format, columns, header, index, index_label, mode, encoding, compression, quoting, quotechar, lineterminator, chunksize, date_format, doublequote, escapechar, decimal, errors, storage_options)\u001B[0m\n\u001B[0;32m   3709\u001B[0m df \u001B[38;5;241m=\u001B[39m \u001B[38;5;28mself\u001B[39m \u001B[38;5;28;01mif\u001B[39;00m \u001B[38;5;28misinstance\u001B[39m(\u001B[38;5;28mself\u001B[39m, ABCDataFrame) \u001B[38;5;28;01melse\u001B[39;00m \u001B[38;5;28mself\u001B[39m\u001B[38;5;241m.\u001B[39mto_frame()\n\u001B[0;32m   3711\u001B[0m formatter \u001B[38;5;241m=\u001B[39m DataFrameFormatter(\n\u001B[0;32m   3712\u001B[0m     frame\u001B[38;5;241m=\u001B[39mdf,\n\u001B[0;32m   3713\u001B[0m     header\u001B[38;5;241m=\u001B[39mheader,\n\u001B[1;32m   (...)\u001B[0m\n\u001B[0;32m   3717\u001B[0m     decimal\u001B[38;5;241m=\u001B[39mdecimal,\n\u001B[0;32m   3718\u001B[0m )\n\u001B[1;32m-> 3720\u001B[0m \u001B[38;5;28;01mreturn\u001B[39;00m \u001B[43mDataFrameRenderer\u001B[49m\u001B[43m(\u001B[49m\u001B[43mformatter\u001B[49m\u001B[43m)\u001B[49m\u001B[38;5;241;43m.\u001B[39;49m\u001B[43mto_csv\u001B[49m\u001B[43m(\u001B[49m\n\u001B[0;32m   3721\u001B[0m \u001B[43m    \u001B[49m\u001B[43mpath_or_buf\u001B[49m\u001B[43m,\u001B[49m\n\u001B[0;32m   3722\u001B[0m \u001B[43m    \u001B[49m\u001B[43mlineterminator\u001B[49m\u001B[38;5;241;43m=\u001B[39;49m\u001B[43mlineterminator\u001B[49m\u001B[43m,\u001B[49m\n\u001B[0;32m   3723\u001B[0m \u001B[43m    \u001B[49m\u001B[43msep\u001B[49m\u001B[38;5;241;43m=\u001B[39;49m\u001B[43msep\u001B[49m\u001B[43m,\u001B[49m\n\u001B[0;32m   3724\u001B[0m \u001B[43m    \u001B[49m\u001B[43mencoding\u001B[49m\u001B[38;5;241;43m=\u001B[39;49m\u001B[43mencoding\u001B[49m\u001B[43m,\u001B[49m\n\u001B[0;32m   3725\u001B[0m \u001B[43m    \u001B[49m\u001B[43merrors\u001B[49m\u001B[38;5;241;43m=\u001B[39;49m\u001B[43merrors\u001B[49m\u001B[43m,\u001B[49m\n\u001B[0;32m   3726\u001B[0m \u001B[43m    \u001B[49m\u001B[43mcompression\u001B[49m\u001B[38;5;241;43m=\u001B[39;49m\u001B[43mcompression\u001B[49m\u001B[43m,\u001B[49m\n\u001B[0;32m   3727\u001B[0m \u001B[43m    \u001B[49m\u001B[43mquoting\u001B[49m\u001B[38;5;241;43m=\u001B[39;49m\u001B[43mquoting\u001B[49m\u001B[43m,\u001B[49m\n\u001B[0;32m   3728\u001B[0m \u001B[43m    \u001B[49m\u001B[43mcolumns\u001B[49m\u001B[38;5;241;43m=\u001B[39;49m\u001B[43mcolumns\u001B[49m\u001B[43m,\u001B[49m\n\u001B[0;32m   3729\u001B[0m \u001B[43m    \u001B[49m\u001B[43mindex_label\u001B[49m\u001B[38;5;241;43m=\u001B[39;49m\u001B[43mindex_label\u001B[49m\u001B[43m,\u001B[49m\n\u001B[0;32m   3730\u001B[0m \u001B[43m    \u001B[49m\u001B[43mmode\u001B[49m\u001B[38;5;241;43m=\u001B[39;49m\u001B[43mmode\u001B[49m\u001B[43m,\u001B[49m\n\u001B[0;32m   3731\u001B[0m \u001B[43m    \u001B[49m\u001B[43mchunksize\u001B[49m\u001B[38;5;241;43m=\u001B[39;49m\u001B[43mchunksize\u001B[49m\u001B[43m,\u001B[49m\n\u001B[0;32m   3732\u001B[0m \u001B[43m    \u001B[49m\u001B[43mquotechar\u001B[49m\u001B[38;5;241;43m=\u001B[39;49m\u001B[43mquotechar\u001B[49m\u001B[43m,\u001B[49m\n\u001B[0;32m   3733\u001B[0m \u001B[43m    \u001B[49m\u001B[43mdate_format\u001B[49m\u001B[38;5;241;43m=\u001B[39;49m\u001B[43mdate_format\u001B[49m\u001B[43m,\u001B[49m\n\u001B[0;32m   3734\u001B[0m \u001B[43m    \u001B[49m\u001B[43mdoublequote\u001B[49m\u001B[38;5;241;43m=\u001B[39;49m\u001B[43mdoublequote\u001B[49m\u001B[43m,\u001B[49m\n\u001B[0;32m   3735\u001B[0m \u001B[43m    \u001B[49m\u001B[43mescapechar\u001B[49m\u001B[38;5;241;43m=\u001B[39;49m\u001B[43mescapechar\u001B[49m\u001B[43m,\u001B[49m\n\u001B[0;32m   3736\u001B[0m \u001B[43m    \u001B[49m\u001B[43mstorage_options\u001B[49m\u001B[38;5;241;43m=\u001B[39;49m\u001B[43mstorage_options\u001B[49m\u001B[43m,\u001B[49m\n\u001B[0;32m   3737\u001B[0m \u001B[43m\u001B[49m\u001B[43m)\u001B[49m\n",
      "File \u001B[1;32mC:\\ProgramData\\Anaconda3\\lib\\site-packages\\pandas\\util\\_decorators.py:211\u001B[0m, in \u001B[0;36mdeprecate_kwarg.<locals>._deprecate_kwarg.<locals>.wrapper\u001B[1;34m(*args, **kwargs)\u001B[0m\n\u001B[0;32m    209\u001B[0m     \u001B[38;5;28;01melse\u001B[39;00m:\n\u001B[0;32m    210\u001B[0m         kwargs[new_arg_name] \u001B[38;5;241m=\u001B[39m new_arg_value\n\u001B[1;32m--> 211\u001B[0m \u001B[38;5;28;01mreturn\u001B[39;00m func(\u001B[38;5;241m*\u001B[39margs, \u001B[38;5;241m*\u001B[39m\u001B[38;5;241m*\u001B[39mkwargs)\n",
      "File \u001B[1;32mC:\\ProgramData\\Anaconda3\\lib\\site-packages\\pandas\\io\\formats\\format.py:1189\u001B[0m, in \u001B[0;36mDataFrameRenderer.to_csv\u001B[1;34m(self, path_or_buf, encoding, sep, columns, index_label, mode, compression, quoting, quotechar, lineterminator, chunksize, date_format, doublequote, escapechar, errors, storage_options)\u001B[0m\n\u001B[0;32m   1168\u001B[0m     created_buffer \u001B[38;5;241m=\u001B[39m \u001B[38;5;28;01mFalse\u001B[39;00m\n\u001B[0;32m   1170\u001B[0m csv_formatter \u001B[38;5;241m=\u001B[39m CSVFormatter(\n\u001B[0;32m   1171\u001B[0m     path_or_buf\u001B[38;5;241m=\u001B[39mpath_or_buf,\n\u001B[0;32m   1172\u001B[0m     lineterminator\u001B[38;5;241m=\u001B[39mlineterminator,\n\u001B[1;32m   (...)\u001B[0m\n\u001B[0;32m   1187\u001B[0m     formatter\u001B[38;5;241m=\u001B[39m\u001B[38;5;28mself\u001B[39m\u001B[38;5;241m.\u001B[39mfmt,\n\u001B[0;32m   1188\u001B[0m )\n\u001B[1;32m-> 1189\u001B[0m \u001B[43mcsv_formatter\u001B[49m\u001B[38;5;241;43m.\u001B[39;49m\u001B[43msave\u001B[49m\u001B[43m(\u001B[49m\u001B[43m)\u001B[49m\n\u001B[0;32m   1191\u001B[0m \u001B[38;5;28;01mif\u001B[39;00m created_buffer:\n\u001B[0;32m   1192\u001B[0m     \u001B[38;5;28;01massert\u001B[39;00m \u001B[38;5;28misinstance\u001B[39m(path_or_buf, StringIO)\n",
      "File \u001B[1;32mC:\\ProgramData\\Anaconda3\\lib\\site-packages\\pandas\\io\\formats\\csvs.py:261\u001B[0m, in \u001B[0;36mCSVFormatter.save\u001B[1;34m(self)\u001B[0m\n\u001B[0;32m    241\u001B[0m \u001B[38;5;28;01mwith\u001B[39;00m get_handle(\n\u001B[0;32m    242\u001B[0m     \u001B[38;5;28mself\u001B[39m\u001B[38;5;241m.\u001B[39mfilepath_or_buffer,\n\u001B[0;32m    243\u001B[0m     \u001B[38;5;28mself\u001B[39m\u001B[38;5;241m.\u001B[39mmode,\n\u001B[1;32m   (...)\u001B[0m\n\u001B[0;32m    249\u001B[0m \n\u001B[0;32m    250\u001B[0m     \u001B[38;5;66;03m# Note: self.encoding is irrelevant here\u001B[39;00m\n\u001B[0;32m    251\u001B[0m     \u001B[38;5;28mself\u001B[39m\u001B[38;5;241m.\u001B[39mwriter \u001B[38;5;241m=\u001B[39m csvlib\u001B[38;5;241m.\u001B[39mwriter(\n\u001B[0;32m    252\u001B[0m         handles\u001B[38;5;241m.\u001B[39mhandle,\n\u001B[0;32m    253\u001B[0m         lineterminator\u001B[38;5;241m=\u001B[39m\u001B[38;5;28mself\u001B[39m\u001B[38;5;241m.\u001B[39mlineterminator,\n\u001B[1;32m   (...)\u001B[0m\n\u001B[0;32m    258\u001B[0m         quotechar\u001B[38;5;241m=\u001B[39m\u001B[38;5;28mself\u001B[39m\u001B[38;5;241m.\u001B[39mquotechar,\n\u001B[0;32m    259\u001B[0m     )\n\u001B[1;32m--> 261\u001B[0m     \u001B[38;5;28;43mself\u001B[39;49m\u001B[38;5;241;43m.\u001B[39;49m\u001B[43m_save\u001B[49m\u001B[43m(\u001B[49m\u001B[43m)\u001B[49m\n",
      "File \u001B[1;32mC:\\ProgramData\\Anaconda3\\lib\\site-packages\\pandas\\io\\formats\\csvs.py:266\u001B[0m, in \u001B[0;36mCSVFormatter._save\u001B[1;34m(self)\u001B[0m\n\u001B[0;32m    264\u001B[0m \u001B[38;5;28;01mif\u001B[39;00m \u001B[38;5;28mself\u001B[39m\u001B[38;5;241m.\u001B[39m_need_to_save_header:\n\u001B[0;32m    265\u001B[0m     \u001B[38;5;28mself\u001B[39m\u001B[38;5;241m.\u001B[39m_save_header()\n\u001B[1;32m--> 266\u001B[0m \u001B[38;5;28;43mself\u001B[39;49m\u001B[38;5;241;43m.\u001B[39;49m\u001B[43m_save_body\u001B[49m\u001B[43m(\u001B[49m\u001B[43m)\u001B[49m\n",
      "File \u001B[1;32mC:\\ProgramData\\Anaconda3\\lib\\site-packages\\pandas\\io\\formats\\csvs.py:304\u001B[0m, in \u001B[0;36mCSVFormatter._save_body\u001B[1;34m(self)\u001B[0m\n\u001B[0;32m    302\u001B[0m \u001B[38;5;28;01mif\u001B[39;00m start_i \u001B[38;5;241m>\u001B[39m\u001B[38;5;241m=\u001B[39m end_i:\n\u001B[0;32m    303\u001B[0m     \u001B[38;5;28;01mbreak\u001B[39;00m\n\u001B[1;32m--> 304\u001B[0m \u001B[38;5;28;43mself\u001B[39;49m\u001B[38;5;241;43m.\u001B[39;49m\u001B[43m_save_chunk\u001B[49m\u001B[43m(\u001B[49m\u001B[43mstart_i\u001B[49m\u001B[43m,\u001B[49m\u001B[43m \u001B[49m\u001B[43mend_i\u001B[49m\u001B[43m)\u001B[49m\n",
      "\u001B[1;31mKeyboardInterrupt\u001B[0m: "
     ]
    }
   ],
   "source": [
    "dtm_df.to_csv('./data/con_dtm.csv')"
   ],
   "metadata": {
    "collapsed": false
   }
  }
 ],
 "metadata": {
  "kernelspec": {
   "display_name": "Python 3",
   "language": "python",
   "name": "python3"
  },
  "language_info": {
   "codemirror_mode": {
    "name": "ipython",
    "version": 2
   },
   "file_extension": ".py",
   "mimetype": "text/x-python",
   "name": "python",
   "nbconvert_exporter": "python",
   "pygments_lexer": "ipython2",
   "version": "2.7.6"
  }
 },
 "nbformat": 4,
 "nbformat_minor": 0
}
